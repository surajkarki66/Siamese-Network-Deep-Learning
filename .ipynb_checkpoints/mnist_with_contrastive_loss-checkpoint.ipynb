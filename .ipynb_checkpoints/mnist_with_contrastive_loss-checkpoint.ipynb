{
 "cells": [
  {
   "cell_type": "markdown",
   "metadata": {},
   "source": [
    "### Imports"
   ]
  },
  {
   "cell_type": "code",
   "execution_count": 55,
   "metadata": {},
   "outputs": [],
   "source": [
    "import random\n",
    "import numpy as np\n",
    "import tensorflow as tf\n",
    "import matplotlib.pyplot as plt\n",
    "\n",
    "from tensorflow.keras.datasets import mnist\n",
    "from tensorflow.keras.models import Model\n",
    "from tensorflow.keras.layers import Input, Flatten, Dense, Dropout, Lambda\n",
    "from tensorflow.keras.optimizers import RMSprop\n",
    "from tensorflow.keras import backend as K"
   ]
  },
  {
   "cell_type": "markdown",
   "metadata": {},
   "source": [
    "### Data Preparation"
   ]
  },
  {
   "cell_type": "code",
   "execution_count": 2,
   "metadata": {},
   "outputs": [],
   "source": [
    "num_classes = 10\n",
    "epochs = 20"
   ]
  },
  {
   "cell_type": "code",
   "execution_count": 3,
   "metadata": {},
   "outputs": [],
   "source": [
    "def create_pairs(x, digit_indices):\n",
    "    '''Positive and negative pair creation.\n",
    "    Alternates between positive and negative pairs.\n",
    "    '''\n",
    "    pairs = []\n",
    "    labels = []\n",
    "    n = min([len(digit_indices[d]) for d in range(num_classes)]) - 1\n",
    "    for d in range(num_classes):\n",
    "        for i in range(n):\n",
    "            z1, z2 = digit_indices[d][i], digit_indices[d][i + 1]\n",
    "            pairs += [[x[z1], x[z2]]]\n",
    "            inc = random.randrange(1, num_classes)\n",
    "            dn = (d + inc) % num_classes\n",
    "            z1, z2 = digit_indices[d][i], digit_indices[dn][i]\n",
    "            pairs += [[x[z1], x[z2]]]\n",
    "            labels += [1, 0]\n",
    "    return np.array(pairs), np.array(labels)"
   ]
  },
  {
   "cell_type": "code",
   "execution_count": 4,
   "metadata": {},
   "outputs": [],
   "source": [
    "# the data, split between train and test sets\n",
    "(x_train, y_train), (x_test, y_test) = mnist.load_data()\n",
    "x_train = x_train.astype('float32')\n",
    "x_test = x_test.astype('float32')\n",
    "x_train /= 255\n",
    "x_test /= 255\n",
    "input_shape = x_train.shape[1:]"
   ]
  },
  {
   "cell_type": "code",
   "execution_count": 5,
   "metadata": {},
   "outputs": [
    {
     "name": "stdout",
     "output_type": "stream",
     "text": [
      "(28, 28)\n"
     ]
    }
   ],
   "source": [
    "print(input_shape)"
   ]
  },
  {
   "cell_type": "code",
   "execution_count": 6,
   "metadata": {},
   "outputs": [],
   "source": [
    "# create training+test positive and negative pairs\n",
    "digit_indices = [np.where(y_train == i)[0] for i in range(num_classes)]\n",
    "train_pairs, train_y = create_pairs(x_train, digit_indices)\n",
    "\n",
    "digit_indices = [np.where(y_test == i)[0] for i in range(num_classes)]\n",
    "test_pairs, test_y = create_pairs(x_test, digit_indices)"
   ]
  },
  {
   "cell_type": "code",
   "execution_count": 11,
   "metadata": {},
   "outputs": [
    {
     "name": "stdout",
     "output_type": "stream",
     "text": [
      "(108400, 2, 28, 28)\n",
      "(108400,)\n"
     ]
    }
   ],
   "source": [
    "print(train_pairs.shape) # 2 represents pair\n",
    "print(train_y.shape)"
   ]
  },
  {
   "cell_type": "markdown",
   "metadata": {},
   "source": [
    "### loss function and metrics"
   ]
  },
  {
   "cell_type": "markdown",
   "metadata": {},
   "source": [
    "#### Euclidean Distance"
   ]
  },
  {
   "cell_type": "code",
   "execution_count": 12,
   "metadata": {},
   "outputs": [],
   "source": [
    "def euclidean_distance(vects):\n",
    "    x, y = vects\n",
    "    sum_square = K.sum(K.square(x - y), axis=1, keepdims=True)  # distance = sqrt((x-y)^2)\n",
    "    return K.sqrt(K.maximum(sum_square, K.epsilon()))"
   ]
  },
  {
   "cell_type": "code",
   "execution_count": 24,
   "metadata": {},
   "outputs": [
    {
     "name": "stdout",
     "output_type": "stream",
     "text": [
      "Distance between x and y:  6.0827627\n"
     ]
    }
   ],
   "source": [
    "x = np.array([[1, 2, 3, 4]], dtype=np.float32)\n",
    "y = np.array([[5, 4, 7, 3]], dtype=np.float32)\n",
    "vects = (x, y)\n",
    "distance = euclidean_distance(vects)\n",
    "print(\"Distance between x and y: \", distance[0][0].numpy())"
   ]
  },
  {
   "cell_type": "code",
   "execution_count": 25,
   "metadata": {},
   "outputs": [],
   "source": [
    "def eucl_dist_output_shape(shapes):\n",
    "    shape1, shape2 = shapes\n",
    "    return (shape1[0], 1)"
   ]
  },
  {
   "cell_type": "markdown",
   "metadata": {},
   "source": [
    "#### Contrastive Loss"
   ]
  },
  {
   "cell_type": "code",
   "execution_count": 26,
   "metadata": {},
   "outputs": [],
   "source": [
    "def contrastive_loss(y_true, y_pred):\n",
    "    '''Contrastive loss from Hadsell-et-al.'06\n",
    "    http://yann.lecun.com/exdb/publis/pdf/hadsell-chopra-lecun-06.pdf\n",
    "    '''\n",
    "    margin = 1\n",
    "    square_pred = K.square(y_pred)\n",
    "    margin_square = K.square(K.maximum(margin - y_pred, 0))\n",
    "    return K.mean(y_true * square_pred + (1 - y_true) * margin_square)"
   ]
  },
  {
   "cell_type": "code",
   "execution_count": 38,
   "metadata": {},
   "outputs": [],
   "source": [
    "def compute_accuracy(y_true, y_pred):\n",
    "    '''Compute classification accuracy with a fixed threshold on distances.\n",
    "    '''\n",
    "    pred = y_pred.ravel() < 0.5\n",
    "    return np.mean(pred == y_true)"
   ]
  },
  {
   "cell_type": "code",
   "execution_count": 39,
   "metadata": {},
   "outputs": [],
   "source": [
    "def accuracy(y_true, y_pred):\n",
    "    '''Compute classification accuracy with a fixed threshold on distances.\n",
    "    '''\n",
    "    return K.mean(K.equal(y_true, K.cast(y_pred < 0.5, y_true.dtype)))"
   ]
  },
  {
   "cell_type": "code",
   "execution_count": 41,
   "metadata": {},
   "outputs": [
    {
     "name": "stdout",
     "output_type": "stream",
     "text": [
      "Contrastive Loss:  tf.Tensor(0.13666667, shape=(), dtype=float32)\n",
      "Accuracy:  tf.Tensor(1.0, shape=(), dtype=float32)\n"
     ]
    }
   ],
   "source": [
    "y_true = np.array([[1],\n",
    "                   [0],\n",
    "                   [1]], dtype=np.float32)\n",
    "y_pred = np.array([[0.4],\n",
    "                   [0.6],\n",
    "                   [0.3]], dtype=np.float32)\n",
    "print(\"Contrastive Loss: \", contrastive_loss(y_true, y_pred))\n",
    "print(\"Accuracy: \", accuracy(y_true, y_pred))"
   ]
  },
  {
   "cell_type": "markdown",
   "metadata": {},
   "source": [
    "### Building Siamese Network"
   ]
  },
  {
   "cell_type": "code",
   "execution_count": 42,
   "metadata": {},
   "outputs": [],
   "source": [
    "def base_network(input_shape):\n",
    "    '''Base network to be shared (eq. to feature extraction).\n",
    "    '''\n",
    "    input_data = Input(shape=input_shape)\n",
    "    x = Flatten()(input_data)\n",
    "    x = Dense(128, activation='relu')(x)\n",
    "    x = Dropout(0.1)(x)\n",
    "    x = Dense(128, activation='relu')(x)\n",
    "    x = Dropout(0.1)(x)\n",
    "    x = Dense(128, activation='relu')(x)\n",
    "    return Model(input_data, x)"
   ]
  },
  {
   "cell_type": "code",
   "execution_count": 43,
   "metadata": {},
   "outputs": [],
   "source": [
    "# network definition\n",
    "base_network = base_network(input_shape)\n",
    "\n",
    "input_a = Input(shape=input_shape)\n",
    "input_b = Input(shape=input_shape)\n",
    "\n",
    "# because we re-use the same instance `base_network`,\n",
    "# the weights of the network\n",
    "# will be shared across the two branches\n",
    "emb_a = base_network(input_a)\n",
    "emb_b = base_network(input_b)\n",
    "\n",
    "distance = Lambda(euclidean_distance,\n",
    "                  output_shape=eucl_dist_output_shape)([emb_a, emb_b])\n",
    "\n",
    "model = Model([input_a, input_b], distance)\n"
   ]
  },
  {
   "cell_type": "code",
   "execution_count": 44,
   "metadata": {},
   "outputs": [
    {
     "name": "stdout",
     "output_type": "stream",
     "text": [
      "Model: \"model_1\"\n",
      "__________________________________________________________________________________________________\n",
      "Layer (type)                    Output Shape         Param #     Connected to                     \n",
      "==================================================================================================\n",
      "input_2 (InputLayer)            [(None, 28, 28)]     0                                            \n",
      "__________________________________________________________________________________________________\n",
      "input_3 (InputLayer)            [(None, 28, 28)]     0                                            \n",
      "__________________________________________________________________________________________________\n",
      "model (Model)                   (None, 128)          133504      input_2[0][0]                    \n",
      "                                                                 input_3[0][0]                    \n",
      "__________________________________________________________________________________________________\n",
      "lambda (Lambda)                 (None, 1)            0           model[1][0]                      \n",
      "                                                                 model[2][0]                      \n",
      "==================================================================================================\n",
      "Total params: 133,504\n",
      "Trainable params: 133,504\n",
      "Non-trainable params: 0\n",
      "__________________________________________________________________________________________________\n"
     ]
    }
   ],
   "source": [
    "model.summary()"
   ]
  },
  {
   "cell_type": "code",
   "execution_count": 45,
   "metadata": {},
   "outputs": [],
   "source": [
    "rms = RMSprop()\n",
    "model.compile(loss=contrastive_loss, optimizer=rms, metrics=[accuracy])"
   ]
  },
  {
   "cell_type": "code",
   "execution_count": 46,
   "metadata": {},
   "outputs": [
    {
     "name": "stdout",
     "output_type": "stream",
     "text": [
      "Epoch 1/20\n",
      "847/847 [==============================] - 10s 12ms/step - loss: 0.0947 - accuracy: 0.8863 - val_loss: 0.0459 - val_accuracy: 0.9488\n",
      "Epoch 2/20\n",
      "847/847 [==============================] - 7s 9ms/step - loss: 0.0412 - accuracy: 0.9601 - val_loss: 0.0335 - val_accuracy: 0.9668\n",
      "Epoch 3/20\n",
      "847/847 [==============================] - 7s 9ms/step - loss: 0.0293 - accuracy: 0.9728 - val_loss: 0.0285 - val_accuracy: 0.9712\n",
      "Epoch 4/20\n",
      "847/847 [==============================] - 7s 8ms/step - loss: 0.0237 - accuracy: 0.9780 - val_loss: 0.0260 - val_accuracy: 0.9731\n",
      "Epoch 5/20\n",
      "847/847 [==============================] - 7s 8ms/step - loss: 0.0203 - accuracy: 0.9805 - val_loss: 0.0266 - val_accuracy: 0.9710\n",
      "Epoch 6/20\n",
      "847/847 [==============================] - 7s 8ms/step - loss: 0.0179 - accuracy: 0.9824 - val_loss: 0.0248 - val_accuracy: 0.9728\n",
      "Epoch 7/20\n",
      "847/847 [==============================] - 7s 8ms/step - loss: 0.0160 - accuracy: 0.9842 - val_loss: 0.0250 - val_accuracy: 0.9732\n",
      "Epoch 8/20\n",
      "847/847 [==============================] - 7s 8ms/step - loss: 0.0146 - accuracy: 0.9857 - val_loss: 0.0268 - val_accuracy: 0.9718\n",
      "Epoch 9/20\n",
      "847/847 [==============================] - 7s 9ms/step - loss: 0.0136 - accuracy: 0.9867 - val_loss: 0.0253 - val_accuracy: 0.9724\n",
      "Epoch 10/20\n",
      "847/847 [==============================] - 7s 8ms/step - loss: 0.0129 - accuracy: 0.9876 - val_loss: 0.0264 - val_accuracy: 0.9718\n",
      "Epoch 11/20\n",
      "847/847 [==============================] - 7s 9ms/step - loss: 0.0123 - accuracy: 0.9879 - val_loss: 0.0253 - val_accuracy: 0.9740\n",
      "Epoch 12/20\n",
      "847/847 [==============================] - 8s 9ms/step - loss: 0.0120 - accuracy: 0.9881 - val_loss: 0.0259 - val_accuracy: 0.9734\n",
      "Epoch 13/20\n",
      "847/847 [==============================] - 7s 9ms/step - loss: 0.0114 - accuracy: 0.9888 - val_loss: 0.0246 - val_accuracy: 0.9741\n",
      "Epoch 14/20\n",
      "847/847 [==============================] - 7s 8ms/step - loss: 0.0109 - accuracy: 0.9893 - val_loss: 0.0246 - val_accuracy: 0.9748\n",
      "Epoch 15/20\n",
      "847/847 [==============================] - 7s 9ms/step - loss: 0.0104 - accuracy: 0.9898 - val_loss: 0.0249 - val_accuracy: 0.9738\n",
      "Epoch 16/20\n",
      "847/847 [==============================] - 7s 9ms/step - loss: 0.0102 - accuracy: 0.9900 - val_loss: 0.0254 - val_accuracy: 0.9744\n",
      "Epoch 17/20\n",
      "847/847 [==============================] - 7s 8ms/step - loss: 0.0097 - accuracy: 0.9904 - val_loss: 0.0258 - val_accuracy: 0.9725\n",
      "Epoch 18/20\n",
      "847/847 [==============================] - 7s 8ms/step - loss: 0.0096 - accuracy: 0.9905 - val_loss: 0.0249 - val_accuracy: 0.9735\n",
      "Epoch 19/20\n",
      "847/847 [==============================] - 7s 8ms/step - loss: 0.0093 - accuracy: 0.9907 - val_loss: 0.0248 - val_accuracy: 0.9736\n",
      "Epoch 20/20\n",
      "847/847 [==============================] - 7s 8ms/step - loss: 0.0090 - accuracy: 0.9909 - val_loss: 0.0257 - val_accuracy: 0.9731\n"
     ]
    },
    {
     "data": {
      "text/plain": [
       "<tensorflow.python.keras.callbacks.History at 0x7f9c5bc10670>"
      ]
     },
     "execution_count": 46,
     "metadata": {},
     "output_type": "execute_result"
    }
   ],
   "source": [
    "model.fit([train_pairs[:, 0], train_pairs[:, 1]], train_y,\n",
    "          batch_size=128,\n",
    "          epochs=epochs,\n",
    "          validation_data=([test_pairs[:, 0], test_pairs[:, 1]], test_y))"
   ]
  },
  {
   "cell_type": "markdown",
   "metadata": {},
   "source": [
    "### Prediction"
   ]
  },
  {
   "cell_type": "code",
   "execution_count": 97,
   "metadata": {},
   "outputs": [],
   "source": [
    "# compute final accuracy on training and test sets\n",
    "y_pred = model.predict([train_pairs[:, 0], train_pairs[:, 1]])\n",
    "tr_acc = compute_accuracy(train_y, y_pred)\n",
    "y_pred = model.predict([test_pairs[:, 0], test_pairs[:, 1]])\n",
    "te_acc = compute_accuracy(test_y, y_pred)\n"
   ]
  },
  {
   "cell_type": "code",
   "execution_count": 98,
   "metadata": {},
   "outputs": [
    {
     "name": "stdout",
     "output_type": "stream",
     "text": [
      "* Accuracy on training set: 99.62%\n",
      "* Accuracy on test set: 97.30%\n"
     ]
    }
   ],
   "source": [
    "print('* Accuracy on training set: %0.2f%%' % (100 * tr_acc))\n",
    "print('* Accuracy on test set: %0.2f%%' % (100 * te_acc))"
   ]
  },
  {
   "cell_type": "code",
   "execution_count": 99,
   "metadata": {},
   "outputs": [
    {
     "name": "stdout",
     "output_type": "stream",
     "text": [
      "Both digits are same.\n",
      "0.02200483\n"
     ]
    },
    {
     "data": {
      "image/png": "[encoded data removed]",
      "text/plain": [
       "<Figure size 432x288 with 2 Axes>"
      ]
     },
     "metadata": {},
     "output_type": "display_data"
    },
    {
     "name": "stdout",
     "output_type": "stream",
     "text": [
      "Both digits are different\n",
      "1.3792224\n"
     ]
    },
    {
     "data": {
      "image/png": "[encoded data removed]",
      "text/plain": [
       "<Figure size 432x288 with 2 Axes>"
      ]
     },
     "metadata": {},
     "output_type": "display_data"
    },
    {
     "name": "stdout",
     "output_type": "stream",
     "text": [
      "Both digits are same.\n",
      "0.013710697\n"
     ]
    },
    {
     "data": {
      "image/png": "[encoded data removed]",
      "text/plain": [
       "<Figure size 432x288 with 2 Axes>"
      ]
     },
     "metadata": {},
     "output_type": "display_data"
    },
    {
     "name": "stdout",
     "output_type": "stream",
     "text": [
      "Both digits are different\n",
      "1.1219018\n"
     ]
    },
    {
     "data": {
      "image/png": "[encoded data removed]",
      "text/plain": [
       "<Figure size 432x288 with 2 Axes>"
      ]
     },
     "metadata": {},
     "output_type": "display_data"
    },
    {
     "name": "stdout",
     "output_type": "stream",
     "text": [
      "Both digits are same.\n",
      "0.009467878\n"
     ]
    },
    {
     "data": {
      "image/png": "[encoded data removed]",
      "text/plain": [
       "<Figure size 432x288 with 2 Axes>"
      ]
     },
     "metadata": {},
     "output_type": "display_data"
    },
    {
     "name": "stdout",
     "output_type": "stream",
     "text": [
      "Both digits are different\n",
      "1.4734662\n"
     ]
    },
    {
     "data": {
      "image/png": "[encoded data removed]",
      "text/plain": [
       "<Figure size 432x288 with 2 Axes>"
      ]
     },
     "metadata": {},
     "output_type": "display_data"
    },
    {
     "name": "stdout",
     "output_type": "stream",
     "text": [
      "Both digits are same.\n",
      "0.02752726\n"
     ]
    },
    {
     "data": {
      "image/png": "[encoded data removed]",
      "text/plain": [
       "<Figure size 432x288 with 2 Axes>"
      ]
     },
     "metadata": {},
     "output_type": "display_data"
    },
    {
     "name": "stdout",
     "output_type": "stream",
     "text": [
      "Both digits are different\n",
      "1.1165113\n"
     ]
    },
    {
     "data": {
      "image/png": "[encoded data removed]",
      "text/plain": [
       "<Figure size 432x288 with 2 Axes>"
      ]
     },
     "metadata": {},
     "output_type": "display_data"
    },
    {
     "name": "stdout",
     "output_type": "stream",
     "text": [
      "Both digits are same.\n",
      "0.022599317\n"
     ]
    },
    {
     "data": {
      "image/png": "[encoded data removed]",
      "text/plain": [
       "<Figure size 432x288 with 2 Axes>"
      ]
     },
     "metadata": {},
     "output_type": "display_data"
    },
    {
     "name": "stdout",
     "output_type": "stream",
     "text": [
      "Both digits are different\n",
      "1.4437209\n"
     ]
    },
    {
     "data": {
      "image/png": "[encoded data removed]",
      "text/plain": [
       "<Figure size 432x288 with 2 Axes>"
      ]
     },
     "metadata": {},
     "output_type": "display_data"
    }
   ],
   "source": [
    "for i in range(len(y_pred)-17810):\n",
    "    y_pred = model.predict([test_pairs[i, 0].reshape(1, 28, 28), test_pairs[i, 1].reshape(1, 28, 28)])\n",
    "    if y_pred[0][0] < 0.5:\n",
    "        text = \"Both digits are same.\"\n",
    "    else:\n",
    "        text = \"Both digits are different\"\n",
    "        \n",
    "    print(text)\n",
    "    print(y_pred[0][0])\n",
    "    fig = plt.figure()\n",
    "    fig.add_subplot(1,2, 1)\n",
    "    plt.imshow(test_pairs[i, 0])\n",
    "    plt.xticks([]); plt.yticks([])\n",
    "    fig.add_subplot(1,2, 2)\n",
    "    plt.imshow(test_pairs[i, 1])\n",
    "    plt.xticks([]); plt.yticks([])\n",
    "    plt.show(block=True)\n"
   ]
  },
  {
   "cell_type": "code",
   "execution_count": null,
   "metadata": {},
   "outputs": [],
   "source": []
  },
  {
   "cell_type": "code",
   "execution_count": null,
   "metadata": {},
   "outputs": [],
   "source": []
  }
 ],
 "metadata": {
  "kernelspec": {
   "display_name": "Python 3",
   "language": "python",
   "name": "python3"
  },
  "language_info": {
   "codemirror_mode": {
    "name": "ipython",
    "version": 3
   },
   "file_extension": ".py",
   "mimetype": "text/x-python",
   "name": "python",
   "nbconvert_exporter": "python",
   "pygments_lexer": "ipython3",
   "version": "3.8.2"
  },
  "toc": {
   "base_numbering": 1,
   "nav_menu": {},
   "number_sections": true,
   "sideBar": true,
   "skip_h1_title": false,
   "title_cell": "Table of Contents",
   "title_sidebar": "Contents",
   "toc_cell": false,
   "toc_position": {},
   "toc_section_display": true,
   "toc_window_display": false
  },
  "varInspector": {
   "cols": {
    "lenName": 16,
    "lenType": 16,
    "lenVar": 40
   },
   "kernels_config": {
    "python": {
     "delete_cmd_postfix": "",
     "delete_cmd_prefix": "del ",
     "library": "var_list.py",
     "varRefreshCmd": "print(var_dic_list())"
    },
    "r": {
     "delete_cmd_postfix": ") ",
     "delete_cmd_prefix": "rm(",
     "library": "var_list.r",
     "varRefreshCmd": "cat(var_dic_list()) "
    }
   },
   "types_to_exclude": [
    "module",
    "function",
    "builtin_function_or_method",
    "instance",
    "_Feature"
   ],
   "window_display": false
  }
 },
 "nbformat": 4,
 "nbformat_minor": 4
}
